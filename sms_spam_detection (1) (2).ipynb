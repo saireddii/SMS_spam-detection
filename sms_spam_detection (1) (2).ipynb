{
  "nbformat": 4,
  "nbformat_minor": 0,
  "metadata": {
    "colab": {
      "provenance": []
    },
    "kernelspec": {
      "name": "python3",
      "display_name": "Python 3"
    },
    "language_info": {
      "name": "python"
    }
  },
  "cells": [
    {
      "cell_type": "code",
      "execution_count": 13,
      "metadata": {
        "colab": {
          "base_uri": "https://localhost:8080/",
          "height": 854
        },
        "id": "hruaE68E9JYE",
        "outputId": "e9601093-da1a-4e00-8616-5a10ccb9cfa1"
      },
      "outputs": [
        {
          "output_type": "stream",
          "name": "stdout",
          "text": [
            "Sample Data:\n",
            "  label                                            message\n",
            "0   ham  Go until jurong point, crazy.. Available only ...\n",
            "1   ham                      Ok lar... Joking wif u oni...\n",
            "2  spam  Free entry in 2 a wkly comp to win FA Cup fina...\n",
            "3   ham  U dun say so early hor... U c already then say...\n",
            "4   ham  Nah I don't think he goes to usf, he lives aro...\n",
            "\n",
            "Accuracy: 0.9838565022421525\n",
            "\n",
            "Classification Report:\n",
            "              precision    recall  f1-score   support\n",
            "\n",
            "           0       0.98      1.00      0.99       965\n",
            "           1       0.99      0.89      0.94       150\n",
            "\n",
            "    accuracy                           0.98      1115\n",
            "   macro avg       0.98      0.95      0.96      1115\n",
            "weighted avg       0.98      0.98      0.98      1115\n",
            "\n"
          ]
        },
        {
          "output_type": "display_data",
          "data": {
            "text/plain": [
              "<Figure size 640x480 with 2 Axes>"
            ],
            "image/png": "[encoded data removed]"
          },
          "metadata": {}
        },
        {
          "output_type": "stream",
          "name": "stdout",
          "text": [
            "Enter a message to check if it's Spam or Not Spam: congratulations!you've won a free iphone\n",
            "The message is: SPAM\n"
          ]
        }
      ],
      "source": [
        "# Step 1: Import Libraries\n",
        "import pandas as pd\n",
        "import numpy as np\n",
        "import matplotlib.pyplot as plt\n",
        "import seaborn as sns\n",
        "from sklearn.model_selection import train_test_split\n",
        "from sklearn.feature_extraction.text import CountVectorizer\n",
        "from sklearn.naive_bayes import MultinomialNB\n",
        "from sklearn.metrics import accuracy_score, confusion_matrix, classification_report\n",
        "\n",
        "# Step 2: Load Dataset\n",
        "df = pd.read_csv(\"spam.csv\", encoding='latin-1')\n",
        "df = df[['v1', 'v2']]\n",
        "df.columns = ['label', 'message']\n",
        "print(\"Sample Data:\")\n",
        "print(df.head())\n",
        "\n",
        "# Step 3: Convert labels to binary\n",
        "df['label_num'] = df.label.map({'ham': 0, 'spam': 1})\n",
        "\n",
        "# Step 4: Split the data\n",
        "X_train, X_test, y_train, y_test = train_test_split(\n",
        "    df['message'], df['label_num'], test_size=0.2, random_state=42\n",
        ")\n",
        "\n",
        "# Step 5: Convert text to vectors\n",
        "vectorizer = CountVectorizer()\n",
        "X_train_vec = vectorizer.fit_transform(X_train)\n",
        "X_test_vec = vectorizer.transform(X_test)\n",
        "\n",
        "# Step 6: Train the model\n",
        "model = MultinomialNB()\n",
        "model.fit(X_train_vec, y_train)\n",
        "\n",
        "# Step 7: Predict\n",
        "y_pred = model.predict(X_test_vec)\n",
        "\n",
        "# Step 8: Evaluation\n",
        "print(\"\\nAccuracy:\", accuracy_score(y_test, y_pred))\n",
        "print(\"\\nClassification Report:\")\n",
        "print(classification_report(y_test, y_pred))\n",
        "\n",
        "# Confusion Matrix\n",
        "cm = confusion_matrix(y_test, y_pred)\n",
        "sns.heatmap(cm, annot=True, fmt='d', cmap='Blues', xticklabels=['Ham', 'Spam'], yticklabels=['Ham', 'Spam'])\n",
        "plt.xlabel('Predicted')\n",
        "plt.ylabel('Actual')\n",
        "plt.title('Confusion Matrix')\n",
        "plt.show()\n",
        "\n",
        "# Step 9: Predict Custom Input\n",
        "msg = input(\"Enter a message to check if it's Spam or Not Spam: \")\n",
        "msg_vec = vectorizer.transform([msg])\n",
        "prediction = model.predict(msg_vec)\n",
        "\n",
        "if prediction[0] == 1:\n",
        "    print(\"The message is: SPAM\")\n",
        "else:\n",
        "    print(\" The message is: NOT SPAM (Ham)\")\n"
      ]
    }
  ]
}